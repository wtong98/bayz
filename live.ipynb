{
 "metadata": {
  "language_info": {
   "codemirror_mode": {
    "name": "ipython",
    "version": 3
   },
   "file_extension": ".py",
   "mimetype": "text/x-python",
   "name": "python",
   "nbconvert_exporter": "python",
   "pygments_lexer": "ipython3",
   "version": "3.8.6-final"
  },
  "orig_nbformat": 2,
  "kernelspec": {
   "name": "Python 3.8.6 64-bit ('music')",
   "display_name": "Python 3.8.6 64-bit ('music')",
   "metadata": {
    "interpreter": {
     "hash": "8044dbfb281df7933b4661b846caf8cb5b7623c03158ba07e0e0ae74f7de686f"
    }
   }
  }
 },
 "nbformat": 4,
 "nbformat_minor": 2,
 "cells": [
  {
   "source": [
    "# bayz band\n",
    "To start:\n",
    "\n",
    "1. execute the first cell to create a server instance and a new Band\n",
    "\n",
    "2. start the WebAudio client at [https://wlt.coffee/cream/bayz]\n",
    "\n",
    "3. type your code in the second cell, and execute to make music!"
   ],
   "cell_type": "markdown",
   "metadata": {}
  },
  {
   "cell_type": "code",
   "execution_count": null,
   "metadata": {},
   "outputs": [],
   "source": [
    "from bayz.music import Band\n",
    "from bayz.server import BayzServer\n",
    "\n",
    "# start server\n",
    "server = BayzServer(port=42700)\n",
    "server.start()\n",
    "\n",
    "# start band\n",
    "b = Band(pre_gen=3)\n",
    "b.connect(server)"
   ]
  },
  {
   "cell_type": "code",
   "execution_count": null,
   "metadata": {},
   "outputs": [],
   "source": [
    "# --- bayz band -o-o-o----------\n",
    "\n",
    "# Live code here! Uncomment and try the following line\n",
    "# b.add_player()\n",
    "\n",
    "\n",
    "\n",
    "\n",
    "\n",
    "\n",
    "\n",
    "# ------------------------------\n",
    "b.commit()"
   ]
  }
 ]
}